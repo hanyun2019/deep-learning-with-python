{
 "cells": [
  {
   "cell_type": "code",
   "execution_count": 27,
   "metadata": {},
   "outputs": [
    {
     "data": {
      "text/plain": [
       "'2.3.1'"
      ]
     },
     "execution_count": 27,
     "metadata": {},
     "output_type": "execute_result"
    }
   ],
   "source": [
    "import keras\n",
    "keras.__version__"
   ]
  },
  {
   "cell_type": "markdown",
   "metadata": {},
   "source": [
    "# Overfitting and underfitting\n",
    "\n",
    "This notebook contains the code samples found in Chapter 3, Section 6 of [Deep Learning with Python](https://www.manning.com/books/deep-learning-with-python?a_aid=keras&a_bid=76564dff). Note that the original text features far more content, in particular further explanations and figures: in this notebook, you will only find source code and related comments.\n",
    "\n",
    "----\n",
    "\n",
    "\n",
    "In all the examples we saw in the previous chapter -- movie review sentiment prediction, topic classification, and house price regression -- \n",
    "we could notice that the performance of our model on the held-out validation data would always peak after a few epochs and would then start \n",
    "degrading, i.e. our model would quickly start to _overfit_ to the training data. Overfitting happens in every single machine learning \n",
    "problem. Learning how to deal with overfitting is essential to mastering machine learning.\n",
    "\n",
    "The fundamental issue in machine learning is the tension between optimization and generalization. \"Optimization\" refers to the process of \n",
    "adjusting a model to get the best performance possible on the training data (the \"learning\" in \"machine learning\"), while \"generalization\" \n",
    "refers to how well the trained model would perform on data it has never seen before. The goal of the game is to get good generalization, of \n",
    "course, but you do not control generalization; you can only adjust the model based on its training data.\n",
    "\n",
    "At the beginning of training, optimization and generalization are correlated: the lower your loss on training data, the lower your loss on \n",
    "test data. While this is happening, your model is said to be _under-fit_: there is still progress to be made; the network hasn't yet \n",
    "modeled all relevant patterns in the training data. But after a certain number of iterations on the training data, generalization stops \n",
    "improving, validation metrics stall then start degrading: the model is then starting to over-fit, i.e. is it starting to learn patterns \n",
    "that are specific to the training data but that are misleading or irrelevant when it comes to new data.\n",
    "\n",
    "To prevent a model from learning misleading or irrelevant patterns found in the training data, _the best solution is of course to get \n",
    "more training data_. A model trained on more data will naturally generalize better. When that is no longer possible, the next best solution \n",
    "is to modulate the quantity of information that your model is allowed to store, or to add constraints on what information it is allowed to \n",
    "store. If a network can only afford to memorize a small number of patterns, the optimization process will force it to focus on the most \n",
    "prominent patterns, which have a better chance of generalizing well.\n",
    "\n",
    "The processing of fighting overfitting in this way is called _regularization_. Let's review some of the most common regularization \n",
    "techniques, and let's apply them in practice to improve our movie classification model from  the previous chapter."
   ]
  },
  {
   "cell_type": "markdown",
   "metadata": {},
   "source": [
    "Note: in this notebook we will be using the IMDB test set as our validation set. It doesn't matter in this context.\n",
    "\n",
    "Let's prepare the data using the code from Chapter 3, Section 5:"
   ]
  },
  {
   "cell_type": "code",
   "execution_count": 28,
   "metadata": {},
   "outputs": [],
   "source": [
    "from keras.datasets import imdb\n",
    "import numpy as np\n",
    "\n",
    "(train_data, train_labels), (test_data, test_labels) = imdb.load_data(num_words=10000)\n",
    "\n",
    "def vectorize_sequences(sequences, dimension=10000):\n",
    "    # Create an all-zero matrix of shape (len(sequences), dimension)\n",
    "    results = np.zeros((len(sequences), dimension))\n",
    "    for i, sequence in enumerate(sequences):\n",
    "        results[i, sequence] = 1.  # set specific indices of results[i] to 1s\n",
    "    return results\n",
    "\n",
    "# Our vectorized training data\n",
    "x_train = vectorize_sequences(train_data)\n",
    "# Our vectorized test data\n",
    "x_test = vectorize_sequences(test_data)\n",
    "# Our vectorized labels\n",
    "y_train = np.asarray(train_labels).astype('float32')\n",
    "y_test = np.asarray(test_labels).astype('float32')"
   ]
  },
  {
   "cell_type": "markdown",
   "metadata": {},
   "source": [
    "# Fighting overfitting\n",
    "\n",
    "## Reducing the network's size\n",
    "\n",
    "\n",
    "The simplest way to prevent overfitting is to reduce the size of the model, i.e. the number of learnable parameters in the model (which is \n",
    "determined by the number of layers and the number of units per layer). In deep learning, the number of learnable parameters in a model is \n",
    "often referred to as the model's \"capacity\". Intuitively, a model with more parameters will have more \"memorization capacity\" and therefore \n",
    "will be able to easily learn a perfect dictionary-like mapping between training samples and their targets, a mapping without any \n",
    "generalization power. For instance, a model with 500,000 binary parameters could easily be made to learn the class of every digits in the \n",
    "MNIST training set: we would only need 10 binary parameters for each of the 50,000 digits. Such a model would be useless for classifying \n",
    "new digit samples. Always keep this in mind: deep learning models tend to be good at fitting to the training data, but the real challenge \n",
    "is generalization, not fitting.\n",
    "\n",
    "On the other hand, if the network has limited memorization resources, it will not be able to learn this mapping as easily, and thus, in \n",
    "order to minimize its loss, it will have to resort to learning compressed representations that have predictive power regarding the targets \n",
    "-- precisely the type of representations that we are interested in. At the same time, keep in mind that you should be using models that have \n",
    "enough parameters that they won't be underfitting: your model shouldn't be starved for memorization resources. There is a compromise to be \n",
    "found between \"too much capacity\" and \"not enough capacity\".\n",
    "\n",
    "Unfortunately, there is no magical formula to determine what the right number of layers is, or what the right size for each layer is. You \n",
    "will have to evaluate an array of different architectures (on your validation set, not on your test set, of course) in order to find the \n",
    "right model size for your data. The general workflow to find an appropriate model size is to start with relatively few layers and \n",
    "parameters, and start increasing the size of the layers or adding new layers until you see diminishing returns with regard to the \n",
    "validation loss.\n",
    "\n",
    "Let's try this on our movie review classification network. Our original network was as such:"
   ]
  },
  {
   "cell_type": "code",
   "execution_count": 29,
   "metadata": {},
   "outputs": [],
   "source": [
    "from keras import models\n",
    "from keras import layers\n",
    "\n",
    "original_model = models.Sequential()\n",
    "original_model.add(layers.Dense(16, activation='relu', input_shape=(10000,)))\n",
    "original_model.add(layers.Dense(16, activation='relu'))\n",
    "original_model.add(layers.Dense(1, activation='sigmoid'))\n",
    "\n",
    "original_model.compile(optimizer='rmsprop',\n",
    "                       loss='binary_crossentropy',\n",
    "                       metrics=['acc'])"
   ]
  },
  {
   "cell_type": "markdown",
   "metadata": {},
   "source": [
    "Now let's try to replace it with this smaller network:"
   ]
  },
  {
   "cell_type": "code",
   "execution_count": 30,
   "metadata": {},
   "outputs": [],
   "source": [
    "smaller_model = models.Sequential()\n",
    "smaller_model.add(layers.Dense(4, activation='relu', input_shape=(10000,)))\n",
    "smaller_model.add(layers.Dense(4, activation='relu'))\n",
    "smaller_model.add(layers.Dense(1, activation='sigmoid'))\n",
    "\n",
    "smaller_model.compile(optimizer='rmsprop',\n",
    "                      loss='binary_crossentropy',\n",
    "                      metrics=['acc'])"
   ]
  },
  {
   "cell_type": "markdown",
   "metadata": {},
   "source": [
    "\n",
    "Here's a comparison of the validation losses of the original network and the smaller network. The dots are the validation loss values of \n",
    "the smaller network, and the crosses are the initial network (remember: a lower validation loss signals a better model)."
   ]
  },
  {
   "cell_type": "code",
   "execution_count": 31,
   "metadata": {},
   "outputs": [
    {
     "name": "stdout",
     "output_type": "stream",
     "text": [
      "Train on 25000 samples, validate on 25000 samples\n",
      "Epoch 1/20\n",
      "25000/25000 [==============================] - 6s 228us/step - loss: 0.4674 - acc: 0.8118 - val_loss: 0.3704 - val_acc: 0.8542\n",
      "Epoch 2/20\n",
      "25000/25000 [==============================] - 3s 131us/step - loss: 0.2623 - acc: 0.9064 - val_loss: 0.2859 - val_acc: 0.8902\n",
      "Epoch 3/20\n",
      "25000/25000 [==============================] - 2s 95us/step - loss: 0.1976 - acc: 0.9302 - val_loss: 0.2862 - val_acc: 0.8860\n",
      "Epoch 4/20\n",
      "25000/25000 [==============================] - 2s 96us/step - loss: 0.1666 - acc: 0.9418 - val_loss: 0.2990 - val_acc: 0.8827\n",
      "Epoch 5/20\n",
      "25000/25000 [==============================] - 2s 97us/step - loss: 0.1419 - acc: 0.9509 - val_loss: 0.3385 - val_acc: 0.8714\n",
      "Epoch 6/20\n",
      "25000/25000 [==============================] - 2s 97us/step - loss: 0.1238 - acc: 0.9576 - val_loss: 0.3427 - val_acc: 0.8751\n",
      "Epoch 7/20\n",
      "25000/25000 [==============================] - 2s 90us/step - loss: 0.1085 - acc: 0.9631 - val_loss: 0.3658 - val_acc: 0.8730\n",
      "Epoch 8/20\n",
      "25000/25000 [==============================] - 2s 87us/step - loss: 0.0957 - acc: 0.9671 - val_loss: 0.3913 - val_acc: 0.8693\n",
      "Epoch 9/20\n",
      "25000/25000 [==============================] - 2s 86us/step - loss: 0.0831 - acc: 0.9723 - val_loss: 0.4716 - val_acc: 0.8508\n",
      "Epoch 10/20\n",
      "25000/25000 [==============================] - 2s 88us/step - loss: 0.0732 - acc: 0.9779 - val_loss: 0.4468 - val_acc: 0.8632\n",
      "Epoch 11/20\n",
      "25000/25000 [==============================] - 2s 87us/step - loss: 0.0621 - acc: 0.9814 - val_loss: 0.5099 - val_acc: 0.8519\n",
      "Epoch 12/20\n",
      "25000/25000 [==============================] - 2s 89us/step - loss: 0.0554 - acc: 0.9834 - val_loss: 0.5094 - val_acc: 0.8602\n",
      "Epoch 13/20\n",
      "25000/25000 [==============================] - 2s 87us/step - loss: 0.0456 - acc: 0.9874 - val_loss: 0.5469 - val_acc: 0.8578\n",
      "Epoch 14/20\n",
      "25000/25000 [==============================] - 2s 89us/step - loss: 0.0409 - acc: 0.9877 - val_loss: 0.5843 - val_acc: 0.8578\n",
      "Epoch 15/20\n",
      "25000/25000 [==============================] - 2s 88us/step - loss: 0.0316 - acc: 0.9915 - val_loss: 0.6158 - val_acc: 0.8546\n",
      "Epoch 16/20\n",
      "25000/25000 [==============================] - 2s 89us/step - loss: 0.0288 - acc: 0.9918 - val_loss: 0.6488 - val_acc: 0.8559\n",
      "Epoch 17/20\n",
      "25000/25000 [==============================] - 2s 88us/step - loss: 0.0221 - acc: 0.9944 - val_loss: 0.7122 - val_acc: 0.8553\n",
      "Epoch 18/20\n",
      "25000/25000 [==============================] - 2s 89us/step - loss: 0.0191 - acc: 0.9956 - val_loss: 0.8488 - val_acc: 0.8263\n",
      "Epoch 19/20\n",
      "25000/25000 [==============================] - 2s 90us/step - loss: 0.0181 - acc: 0.9950 - val_loss: 0.7650 - val_acc: 0.8539\n",
      "Epoch 20/20\n",
      "25000/25000 [==============================] - 3s 110us/step - loss: 0.0124 - acc: 0.9972 - val_loss: 0.8041 - val_acc: 0.8531\n"
     ]
    }
   ],
   "source": [
    "original_hist = original_model.fit(x_train, y_train,\n",
    "                                   epochs=20,\n",
    "                                   batch_size=512,\n",
    "                                   validation_data=(x_test, y_test))"
   ]
  },
  {
   "cell_type": "code",
   "execution_count": 32,
   "metadata": {},
   "outputs": [
    {
     "name": "stdout",
     "output_type": "stream",
     "text": [
      "Train on 25000 samples, validate on 25000 samples\n",
      "Epoch 1/20\n",
      "25000/25000 [==============================] - 3s 131us/step - loss: 0.6300 - acc: 0.6684 - val_loss: 0.5867 - val_acc: 0.7458\n",
      "Epoch 2/20\n",
      "25000/25000 [==============================] - 2s 99us/step - loss: 0.5409 - acc: 0.8129 - val_loss: 0.5255 - val_acc: 0.8358\n",
      "Epoch 3/20\n",
      "25000/25000 [==============================] - 2s 92us/step - loss: 0.4586 - acc: 0.8740 - val_loss: 0.3973 - val_acc: 0.8741\n",
      "Epoch 4/20\n",
      "25000/25000 [==============================] - 2s 92us/step - loss: 0.3088 - acc: 0.9120 - val_loss: 0.3243 - val_acc: 0.8842\n",
      "Epoch 5/20\n",
      "25000/25000 [==============================] - 3s 103us/step - loss: 0.2461 - acc: 0.9247 - val_loss: 0.2995 - val_acc: 0.8864\n",
      "Epoch 6/20\n",
      "25000/25000 [==============================] - 2s 98us/step - loss: 0.2106 - acc: 0.9334 - val_loss: 0.2862 - val_acc: 0.8886\n",
      "Epoch 7/20\n",
      "25000/25000 [==============================] - 2s 96us/step - loss: 0.1854 - acc: 0.9400 - val_loss: 0.2817 - val_acc: 0.8885\n",
      "Epoch 8/20\n",
      "25000/25000 [==============================] - 3s 102us/step - loss: 0.1668 - acc: 0.9466 - val_loss: 0.2835 - val_acc: 0.8882\n",
      "Epoch 9/20\n",
      "25000/25000 [==============================] - 3s 104us/step - loss: 0.1514 - acc: 0.9520 - val_loss: 0.2884 - val_acc: 0.8860\n",
      "Epoch 10/20\n",
      "25000/25000 [==============================] - 2s 95us/step - loss: 0.1378 - acc: 0.9567 - val_loss: 0.2958 - val_acc: 0.8835\n",
      "Epoch 11/20\n",
      "25000/25000 [==============================] - 3s 102us/step - loss: 0.1263 - acc: 0.9618 - val_loss: 0.3095 - val_acc: 0.8788\n",
      "Epoch 12/20\n",
      "25000/25000 [==============================] - 3s 104us/step - loss: 0.1157 - acc: 0.9641 - val_loss: 0.3158 - val_acc: 0.8788\n",
      "Epoch 13/20\n",
      "25000/25000 [==============================] - 3s 102us/step - loss: 0.1062 - acc: 0.9680 - val_loss: 0.3312 - val_acc: 0.8773\n",
      "Epoch 14/20\n",
      "25000/25000 [==============================] - 2s 99us/step - loss: 0.0975 - acc: 0.9714 - val_loss: 0.3374 - val_acc: 0.8748\n",
      "Epoch 15/20\n",
      "25000/25000 [==============================] - 3s 107us/step - loss: 0.0901 - acc: 0.9738 - val_loss: 0.3532 - val_acc: 0.8740\n",
      "Epoch 16/20\n",
      "25000/25000 [==============================] - 3s 101us/step - loss: 0.0826 - acc: 0.9761 - val_loss: 0.3656 - val_acc: 0.8714\n",
      "Epoch 17/20\n",
      "25000/25000 [==============================] - 2s 96us/step - loss: 0.0758 - acc: 0.9790 - val_loss: 0.3782 - val_acc: 0.8695\n",
      "Epoch 18/20\n",
      "25000/25000 [==============================] - 3s 105us/step - loss: 0.0696 - acc: 0.9813 - val_loss: 0.3949 - val_acc: 0.8672\n",
      "Epoch 19/20\n",
      "25000/25000 [==============================] - 2s 95us/step - loss: 0.0633 - acc: 0.9838 - val_loss: 0.4140 - val_acc: 0.8665\n",
      "Epoch 20/20\n",
      "25000/25000 [==============================] - 3s 101us/step - loss: 0.0575 - acc: 0.9860 - val_loss: 0.4267 - val_acc: 0.8668\n"
     ]
    }
   ],
   "source": [
    "smaller_model_hist = smaller_model.fit(x_train, y_train,\n",
    "                                       epochs=20,\n",
    "                                       batch_size=512,\n",
    "                                       validation_data=(x_test, y_test))"
   ]
  },
  {
   "cell_type": "code",
   "execution_count": 33,
   "metadata": {},
   "outputs": [],
   "source": [
    "epochs = range(1, 21)\n",
    "original_val_loss = original_hist.history['val_loss']\n",
    "smaller_model_val_loss = smaller_model_hist.history['val_loss']"
   ]
  },
  {
   "cell_type": "code",
   "execution_count": 34,
   "metadata": {},
   "outputs": [
    {
     "data": {
      "image/png": "[encoded data removed]",
      "text/plain": [
       "<Figure size 432x288 with 1 Axes>"
      ]
     },
     "metadata": {
      "needs_background": "light"
     },
     "output_type": "display_data"
    }
   ],
   "source": [
    "import matplotlib.pyplot as plt\n",
    "\n",
    "# b+ is for \"blue cross\"\n",
    "plt.plot(epochs, original_val_loss, 'b+', label='Original model')\n",
    "# \"bo\" is for \"blue dot\"\n",
    "plt.plot(epochs, smaller_model_val_loss, 'bo', label='Smaller model')\n",
    "plt.xlabel('Epochs')\n",
    "plt.ylabel('Validation loss')\n",
    "plt.legend()\n",
    "\n",
    "plt.show()"
   ]
  },
  {
   "cell_type": "markdown",
   "metadata": {},
   "source": [
    "\n",
    "As you can see, the smaller network starts overfitting later than the reference one (after 6 epochs rather than 4) and its performance \n",
    "degrades much more slowly once it starts overfitting.\n",
    "\n",
    "Now, for kicks, let's add to this benchmark a network that has much more capacity, far more than the problem would warrant:"
   ]
  },
  {
   "cell_type": "code",
   "execution_count": 35,
   "metadata": {},
   "outputs": [],
   "source": [
    "bigger_model = models.Sequential()\n",
    "bigger_model.add(layers.Dense(512, activation='relu', input_shape=(10000,)))\n",
    "bigger_model.add(layers.Dense(512, activation='relu'))\n",
    "bigger_model.add(layers.Dense(1, activation='sigmoid'))\n",
    "\n",
    "bigger_model.compile(optimizer='rmsprop',\n",
    "                     loss='binary_crossentropy',\n",
    "                     metrics=['acc'])"
   ]
  },
  {
   "cell_type": "code",
   "execution_count": 36,
   "metadata": {},
   "outputs": [
    {
     "name": "stdout",
     "output_type": "stream",
     "text": [
      "Train on 25000 samples, validate on 25000 samples\n",
      "Epoch 1/20\n",
      "25000/25000 [==============================] - 12s 479us/step - loss: 0.4551 - acc: 0.7978 - val_loss: 0.3115 - val_acc: 0.8723\n",
      "Epoch 2/20\n",
      "25000/25000 [==============================] - 11s 458us/step - loss: 0.2299 - acc: 0.9096 - val_loss: 0.3274 - val_acc: 0.8554\n",
      "Epoch 3/20\n",
      "25000/25000 [==============================] - 11s 442us/step - loss: 0.1303 - acc: 0.9528 - val_loss: 0.5247 - val_acc: 0.8205\n",
      "Epoch 4/20\n",
      "25000/25000 [==============================] - 11s 436us/step - loss: 0.0649 - acc: 0.9798 - val_loss: 0.4395 - val_acc: 0.8813\n",
      "Epoch 5/20\n",
      "25000/25000 [==============================] - 11s 428us/step - loss: 0.0645 - acc: 0.9866 - val_loss: 0.4856 - val_acc: 0.8846\n",
      "Epoch 6/20\n",
      "25000/25000 [==============================] - 11s 424us/step - loss: 0.0944 - acc: 0.9876 - val_loss: 0.4992 - val_acc: 0.8726\n",
      "Epoch 7/20\n",
      "25000/25000 [==============================] - 11s 428us/step - loss: 0.0017 - acc: 1.0000 - val_loss: 0.6532 - val_acc: 0.8805\n",
      "Epoch 8/20\n",
      "25000/25000 [==============================] - 11s 432us/step - loss: 1.7801e-04 - acc: 1.0000 - val_loss: 0.8496 - val_acc: 0.8794\n",
      "Epoch 9/20\n",
      "25000/25000 [==============================] - 11s 450us/step - loss: 0.1336 - acc: 0.9890 - val_loss: 0.7518 - val_acc: 0.8474\n",
      "Epoch 10/20\n",
      "25000/25000 [==============================] - 11s 433us/step - loss: 4.5377e-04 - acc: 1.0000 - val_loss: 0.7585 - val_acc: 0.8777\n",
      "Epoch 11/20\n",
      "25000/25000 [==============================] - 11s 452us/step - loss: 3.2686e-05 - acc: 1.0000 - val_loss: 0.8690 - val_acc: 0.8784\n",
      "Epoch 12/20\n",
      "25000/25000 [==============================] - 13s 519us/step - loss: 7.7291e-06 - acc: 1.0000 - val_loss: 1.0038 - val_acc: 0.8770\n",
      "Epoch 13/20\n",
      "25000/25000 [==============================] - 13s 511us/step - loss: 1.6136e-06 - acc: 1.0000 - val_loss: 1.1681 - val_acc: 0.8782\n",
      "Epoch 14/20\n",
      "25000/25000 [==============================] - 13s 515us/step - loss: 2.6352e-07 - acc: 1.0000 - val_loss: 1.3034 - val_acc: 0.8782\n",
      "Epoch 15/20\n",
      "25000/25000 [==============================] - 11s 441us/step - loss: 5.6305e-08 - acc: 1.0000 - val_loss: 1.4021 - val_acc: 0.8784\n",
      "Epoch 16/20\n",
      "25000/25000 [==============================] - 12s 461us/step - loss: 2.2548e-08 - acc: 1.0000 - val_loss: 1.4518 - val_acc: 0.8783\n",
      "Epoch 17/20\n",
      "25000/25000 [==============================] - 11s 437us/step - loss: 1.3678e-08 - acc: 1.0000 - val_loss: 1.4826 - val_acc: 0.8783\n",
      "Epoch 18/20\n",
      "25000/25000 [==============================] - 11s 433us/step - loss: 9.8935e-09 - acc: 1.0000 - val_loss: 1.5045 - val_acc: 0.8780\n",
      "Epoch 19/20\n",
      "25000/25000 [==============================] - 11s 433us/step - loss: 7.7474e-09 - acc: 1.0000 - val_loss: 1.5212 - val_acc: 0.8782\n",
      "Epoch 20/20\n",
      "25000/25000 [==============================] - 11s 446us/step - loss: 6.3961e-09 - acc: 1.0000 - val_loss: 1.5352 - val_acc: 0.8782\n"
     ]
    }
   ],
   "source": [
    "bigger_model_hist = bigger_model.fit(x_train, y_train,\n",
    "                                     epochs=20,\n",
    "                                     batch_size=512,\n",
    "                                     validation_data=(x_test, y_test))"
   ]
  },
  {
   "cell_type": "markdown",
   "metadata": {},
   "source": [
    "Here's how the bigger network fares compared to the reference one. The dots are the validation loss values of the bigger network, and the \n",
    "crosses are the initial network."
   ]
  },
  {
   "cell_type": "code",
   "execution_count": 37,
   "metadata": {},
   "outputs": [
    {
     "data": {
      "image/png": "[encoded data removed]",
      "text/plain": [
       "<Figure size 432x288 with 1 Axes>"
      ]
     },
     "metadata": {
      "needs_background": "light"
     },
     "output_type": "display_data"
    }
   ],
   "source": [
    "bigger_model_val_loss = bigger_model_hist.history['val_loss']\n",
    "\n",
    "plt.plot(epochs, original_val_loss, 'b+', label='Original model')\n",
    "plt.plot(epochs, bigger_model_val_loss, 'bo', label='Bigger model')\n",
    "plt.xlabel('Epochs')\n",
    "plt.ylabel('Validation loss')\n",
    "plt.legend()\n",
    "\n",
    "plt.show()"
   ]
  },
  {
   "cell_type": "markdown",
   "metadata": {},
   "source": [
    "\n",
    "The bigger network starts overfitting almost right away, after just one epoch, and overfits much more severely. Its validation loss is also \n",
    "more noisy.\n",
    "\n",
    "Meanwhile, here are the training losses for our two networks:"
   ]
  },
  {
   "cell_type": "code",
   "execution_count": 38,
   "metadata": {},
   "outputs": [
    {
     "data": {
      "image/png": "[encoded data removed]",
      "text/plain": [
       "<Figure size 432x288 with 1 Axes>"
      ]
     },
     "metadata": {
      "needs_background": "light"
     },
     "output_type": "display_data"
    }
   ],
   "source": [
    "original_train_loss = original_hist.history['loss']\n",
    "bigger_model_train_loss = bigger_model_hist.history['loss']\n",
    "\n",
    "plt.plot(epochs, original_train_loss, 'b+', label='Original model')\n",
    "plt.plot(epochs, bigger_model_train_loss, 'bo', label='Bigger model')\n",
    "plt.xlabel('Epochs')\n",
    "plt.ylabel('Training loss')\n",
    "plt.legend()\n",
    "\n",
    "plt.show()"
   ]
  },
  {
   "cell_type": "markdown",
   "metadata": {},
   "source": [
    "As you can see, the bigger network gets its training loss near zero very quickly. The more capacity the network has, the quicker it will be \n",
    "able to model the training data (resulting in a low training loss), but the more susceptible it is to overfitting (resulting in a large \n",
    "difference between the training and validation loss)."
   ]
  },
  {
   "cell_type": "markdown",
   "metadata": {},
   "source": [
    "## Adding weight regularization\n",
    "\n",
    "\n",
    "You may be familiar with _Occam's Razor_ principle: given two explanations for something, the explanation most likely to be correct is the \n",
    "\"simplest\" one, the one that makes the least amount of assumptions. This also applies to the models learned by neural networks: given some \n",
    "training data and a network architecture, there are multiple sets of weights values (multiple _models_) that could explain the data, and \n",
    "simpler models are less likely to overfit than complex ones.\n",
    "\n",
    "A \"simple model\" in this context is a model where the distribution of parameter values has less entropy (or a model with fewer \n",
    "parameters altogether, as we saw in the section above). Thus a common way to mitigate overfitting is to put constraints on the complexity \n",
    "of a network by forcing its weights to only take small values, which makes the distribution of weight values more \"regular\". This is called \n",
    "\"weight regularization\", and it is done by adding to the loss function of the network a _cost_ associated with having large weights. This \n",
    "cost comes in two flavors:\n",
    "\n",
    "* L1 regularization, where the cost added is proportional to the _absolute value of the weights coefficients_ (i.e. to what is called the \n",
    "\"L1 norm\" of the weights).\n",
    "* L2 regularization, where the cost added is proportional to the _square of the value of the weights coefficients_ (i.e. to what is called \n",
    "the \"L2 norm\" of the weights). L2 regularization is also called _weight decay_ in the context of neural networks. Don't let the different \n",
    "name confuse you: weight decay is mathematically the exact same as L2 regularization.\n",
    "\n",
    "In Keras, weight regularization is added by passing _weight regularizer instances_ to layers as keyword arguments. Let's add L2 weight \n",
    "regularization to our movie review classification network:"
   ]
  },
  {
   "cell_type": "code",
   "execution_count": 39,
   "metadata": {},
   "outputs": [],
   "source": [
    "from keras import regularizers\n",
    "\n",
    "l2_model = models.Sequential()\n",
    "l2_model.add(layers.Dense(16, kernel_regularizer=regularizers.l2(0.001),\n",
    "                          activation='relu', input_shape=(10000,)))\n",
    "l2_model.add(layers.Dense(16, kernel_regularizer=regularizers.l2(0.001),\n",
    "                          activation='relu'))\n",
    "l2_model.add(layers.Dense(1, activation='sigmoid'))"
   ]
  },
  {
   "cell_type": "code",
   "execution_count": 40,
   "metadata": {},
   "outputs": [],
   "source": [
    "l2_model.compile(optimizer='rmsprop',\n",
    "                 loss='binary_crossentropy',\n",
    "                 metrics=['acc'])"
   ]
  },
  {
   "cell_type": "markdown",
   "metadata": {},
   "source": [
    "`l2(0.001)` means that every coefficient in the weight matrix of the layer will add `0.001 * weight_coefficient_value` to the total loss of \n",
    "the network. Note that because this penalty is _only added at training time_, the loss for this network will be much higher at training \n",
    "than at test time.\n",
    "\n",
    "Here's the impact of our L2 regularization penalty:"
   ]
  },
  {
   "cell_type": "code",
   "execution_count": 41,
   "metadata": {},
   "outputs": [
    {
     "name": "stdout",
     "output_type": "stream",
     "text": [
      "Train on 25000 samples, validate on 25000 samples\n",
      "Epoch 1/20\n",
      "25000/25000 [==============================] - 3s 132us/step - loss: 0.5286 - acc: 0.8172 - val_loss: 0.4068 - val_acc: 0.8754\n",
      "Epoch 2/20\n",
      "25000/25000 [==============================] - 3s 105us/step - loss: 0.3346 - acc: 0.8974 - val_loss: 0.3497 - val_acc: 0.8785\n",
      "Epoch 3/20\n",
      "25000/25000 [==============================] - 2s 93us/step - loss: 0.2739 - acc: 0.9184 - val_loss: 0.3327 - val_acc: 0.8847\n",
      "Epoch 4/20\n",
      "25000/25000 [==============================] - 2s 98us/step - loss: 0.2499 - acc: 0.9276 - val_loss: 0.3263 - val_acc: 0.8874\n",
      "Epoch 5/20\n",
      "25000/25000 [==============================] - 2s 93us/step - loss: 0.2347 - acc: 0.9308 - val_loss: 0.3456 - val_acc: 0.8807\n",
      "Epoch 6/20\n",
      "25000/25000 [==============================] - 2s 93us/step - loss: 0.2267 - acc: 0.9368 - val_loss: 0.3418 - val_acc: 0.8816\n",
      "Epoch 7/20\n",
      "25000/25000 [==============================] - 2s 94us/step - loss: 0.2155 - acc: 0.9401 - val_loss: 0.3591 - val_acc: 0.8783\n",
      "Epoch 8/20\n",
      "25000/25000 [==============================] - 2s 93us/step - loss: 0.2142 - acc: 0.9403 - val_loss: 0.3708 - val_acc: 0.8742\n",
      "Epoch 9/20\n",
      "25000/25000 [==============================] - 3s 102us/step - loss: 0.2041 - acc: 0.9454 - val_loss: 0.3653 - val_acc: 0.8763\n",
      "Epoch 10/20\n",
      "25000/25000 [==============================] - 2s 93us/step - loss: 0.2000 - acc: 0.9482 - val_loss: 0.4080 - val_acc: 0.8662\n",
      "Epoch 11/20\n",
      "25000/25000 [==============================] - 2s 95us/step - loss: 0.1984 - acc: 0.9469 - val_loss: 0.4037 - val_acc: 0.8679\n",
      "Epoch 12/20\n",
      "25000/25000 [==============================] - 2s 91us/step - loss: 0.1962 - acc: 0.9484 - val_loss: 0.4052 - val_acc: 0.8694\n",
      "Epoch 13/20\n",
      "25000/25000 [==============================] - 2s 94us/step - loss: 0.1942 - acc: 0.9482 - val_loss: 0.3995 - val_acc: 0.8694\n",
      "Epoch 14/20\n",
      "25000/25000 [==============================] - 2s 94us/step - loss: 0.1896 - acc: 0.9500 - val_loss: 0.4334 - val_acc: 0.8625\n",
      "Epoch 15/20\n",
      "25000/25000 [==============================] - 2s 94us/step - loss: 0.1883 - acc: 0.9509 - val_loss: 0.4260 - val_acc: 0.8655\n",
      "Epoch 16/20\n",
      "25000/25000 [==============================] - 2s 94us/step - loss: 0.1838 - acc: 0.9522 - val_loss: 0.4021 - val_acc: 0.8724\n",
      "Epoch 17/20\n",
      "25000/25000 [==============================] - 2s 96us/step - loss: 0.1821 - acc: 0.9540 - val_loss: 0.4128 - val_acc: 0.8698\n",
      "Epoch 18/20\n",
      "25000/25000 [==============================] - 2s 97us/step - loss: 0.1823 - acc: 0.9532 - val_loss: 0.4150 - val_acc: 0.8684\n",
      "Epoch 19/20\n",
      "25000/25000 [==============================] - 2s 96us/step - loss: 0.1782 - acc: 0.9544 - val_loss: 0.4194 - val_acc: 0.8686\n",
      "Epoch 20/20\n",
      "25000/25000 [==============================] - 2s 95us/step - loss: 0.1781 - acc: 0.9546 - val_loss: 0.4259 - val_acc: 0.8675\n"
     ]
    }
   ],
   "source": [
    "l2_model_hist = l2_model.fit(x_train, y_train,\n",
    "                             epochs=20,\n",
    "                             batch_size=512,\n",
    "                             validation_data=(x_test, y_test))"
   ]
  },
  {
   "cell_type": "code",
   "execution_count": 42,
   "metadata": {},
   "outputs": [
    {
     "data": {
      "image/png": "[encoded data removed]",
      "text/plain": [
       "<Figure size 432x288 with 1 Axes>"
      ]
     },
     "metadata": {
      "needs_background": "light"
     },
     "output_type": "display_data"
    }
   ],
   "source": [
    "l2_model_val_loss = l2_model_hist.history['val_loss']\n",
    "\n",
    "plt.plot(epochs, original_val_loss, 'b+', label='Original model')\n",
    "plt.plot(epochs, l2_model_val_loss, 'bo', label='L2-regularized model')\n",
    "plt.xlabel('Epochs')\n",
    "plt.ylabel('Validation loss')\n",
    "plt.legend()\n",
    "\n",
    "plt.show()"
   ]
  },
  {
   "cell_type": "markdown",
   "metadata": {},
   "source": [
    "\n",
    "\n",
    "As you can see, the model with L2 regularization (dots) has become much more resistant to overfitting than the reference model (crosses), \n",
    "even though both models have the same number of parameters.\n",
    "\n",
    "As alternatives to L2 regularization, you could use one of the following Keras weight regularizers:"
   ]
  },
  {
   "cell_type": "code",
   "execution_count": 43,
   "metadata": {},
   "outputs": [
    {
     "data": {
      "text/plain": [
       "<keras.regularizers.L1L2 at 0x1356b8350>"
      ]
     },
     "execution_count": 43,
     "metadata": {},
     "output_type": "execute_result"
    }
   ],
   "source": [
    "from keras import regularizers\n",
    "\n",
    "# L1 regularization\n",
    "regularizers.l1(0.001)\n",
    "\n",
    "# L1 and L2 regularization at the same time\n",
    "regularizers.l1_l2(l1=0.001, l2=0.001)"
   ]
  },
  {
   "cell_type": "markdown",
   "metadata": {},
   "source": [
    "## Adding dropout\n",
    "\n",
    "\n",
    "Dropout is one of the most effective and most commonly used regularization techniques for neural networks, developed by Hinton and his \n",
    "students at the University of Toronto. Dropout, applied to a layer, consists of randomly \"dropping out\" (i.e. setting to zero) a number of \n",
    "output features of the layer during training. Let's say a given layer would normally have returned a vector `[0.2, 0.5, 1.3, 0.8, 1.1]` for a \n",
    "given input sample during training; after applying dropout, this vector will have a few zero entries distributed at random, e.g. `[0, 0.5, \n",
    "1.3, 0, 1.1]`. The \"dropout rate\" is the fraction of the features that are being zeroed-out; it is usually set between 0.2 and 0.5. At test \n",
    "time, no units are dropped out, and instead the layer's output values are scaled down by a factor equal to the dropout rate, so as to \n",
    "balance for the fact that more units are active than at training time.\n",
    "\n",
    "Consider a Numpy matrix containing the output of a layer, `layer_output`, of shape `(batch_size, features)`. At training time, we would be \n",
    "zero-ing out at random a fraction of the values in the matrix:"
   ]
  },
  {
   "cell_type": "code",
   "execution_count": 44,
   "metadata": {},
   "outputs": [
    {
     "ename": "NameError",
     "evalue": "name 'layer_output' is not defined",
     "output_type": "error",
     "traceback": [
      "\u001b[0;31m---------------------------------------------------------------------------\u001b[0m",
      "\u001b[0;31mNameError\u001b[0m                                 Traceback (most recent call last)",
      "\u001b[0;32m<ipython-input-44-f1f187ff4a2c>\u001b[0m in \u001b[0;36m<module>\u001b[0;34m\u001b[0m\n\u001b[1;32m      1\u001b[0m \u001b[0;31m# At training time: we drop out 50% of the units in the output\u001b[0m\u001b[0;34m\u001b[0m\u001b[0;34m\u001b[0m\u001b[0;34m\u001b[0m\u001b[0m\n\u001b[0;32m----> 2\u001b[0;31m \u001b[0mlayer_output\u001b[0m \u001b[0;34m*=\u001b[0m \u001b[0mnp\u001b[0m\u001b[0;34m.\u001b[0m\u001b[0mrandint\u001b[0m\u001b[0;34m(\u001b[0m\u001b[0;36m0\u001b[0m\u001b[0;34m,\u001b[0m \u001b[0mhigh\u001b[0m\u001b[0;34m=\u001b[0m\u001b[0;36m2\u001b[0m\u001b[0;34m,\u001b[0m \u001b[0msize\u001b[0m\u001b[0;34m=\u001b[0m\u001b[0mlayer_output\u001b[0m\u001b[0;34m.\u001b[0m\u001b[0mshape\u001b[0m\u001b[0;34m)\u001b[0m\u001b[0;34m\u001b[0m\u001b[0;34m\u001b[0m\u001b[0m\n\u001b[0m",
      "\u001b[0;31mNameError\u001b[0m: name 'layer_output' is not defined"
     ]
    }
   ],
   "source": [
    "# At training time: we drop out 50% of the units in the output\n",
    "layer_output *= np.randint(0, high=2, size=layer_output.shape)"
   ]
  },
  {
   "cell_type": "markdown",
   "metadata": {},
   "source": [
    "\n",
    "At test time, we would be scaling the output down by the dropout rate. Here we scale by 0.5 (because we were previous dropping half the \n",
    "units):"
   ]
  },
  {
   "cell_type": "code",
   "execution_count": 45,
   "metadata": {},
   "outputs": [
    {
     "ename": "NameError",
     "evalue": "name 'layer_output' is not defined",
     "output_type": "error",
     "traceback": [
      "\u001b[0;31m---------------------------------------------------------------------------\u001b[0m",
      "\u001b[0;31mNameError\u001b[0m                                 Traceback (most recent call last)",
      "\u001b[0;32m<ipython-input-45-bfeb0a27d9eb>\u001b[0m in \u001b[0;36m<module>\u001b[0;34m\u001b[0m\n\u001b[1;32m      1\u001b[0m \u001b[0;31m# At test time:\u001b[0m\u001b[0;34m\u001b[0m\u001b[0;34m\u001b[0m\u001b[0;34m\u001b[0m\u001b[0m\n\u001b[0;32m----> 2\u001b[0;31m \u001b[0mlayer_output\u001b[0m \u001b[0;34m*=\u001b[0m \u001b[0;36m0.5\u001b[0m\u001b[0;34m\u001b[0m\u001b[0;34m\u001b[0m\u001b[0m\n\u001b[0m",
      "\u001b[0;31mNameError\u001b[0m: name 'layer_output' is not defined"
     ]
    }
   ],
   "source": [
    "# At test time:\n",
    "layer_output *= 0.5"
   ]
  },
  {
   "cell_type": "markdown",
   "metadata": {},
   "source": [
    "\n",
    "Note that this process can be implemented by doing both operations at training time and leaving the output unchanged at test time, which is \n",
    "often the way it is implemented in practice:"
   ]
  },
  {
   "cell_type": "code",
   "execution_count": 46,
   "metadata": {},
   "outputs": [
    {
     "ename": "NameError",
     "evalue": "name 'layer_output' is not defined",
     "output_type": "error",
     "traceback": [
      "\u001b[0;31m---------------------------------------------------------------------------\u001b[0m",
      "\u001b[0;31mNameError\u001b[0m                                 Traceback (most recent call last)",
      "\u001b[0;32m<ipython-input-46-e035a3ac027e>\u001b[0m in \u001b[0;36m<module>\u001b[0;34m\u001b[0m\n\u001b[1;32m      1\u001b[0m \u001b[0;31m# At training time:\u001b[0m\u001b[0;34m\u001b[0m\u001b[0;34m\u001b[0m\u001b[0;34m\u001b[0m\u001b[0m\n\u001b[0;32m----> 2\u001b[0;31m \u001b[0mlayer_output\u001b[0m \u001b[0;34m*=\u001b[0m \u001b[0mnp\u001b[0m\u001b[0;34m.\u001b[0m\u001b[0mrandint\u001b[0m\u001b[0;34m(\u001b[0m\u001b[0;36m0\u001b[0m\u001b[0;34m,\u001b[0m \u001b[0mhigh\u001b[0m\u001b[0;34m=\u001b[0m\u001b[0;36m2\u001b[0m\u001b[0;34m,\u001b[0m \u001b[0msize\u001b[0m\u001b[0;34m=\u001b[0m\u001b[0mlayer_output\u001b[0m\u001b[0;34m.\u001b[0m\u001b[0mshape\u001b[0m\u001b[0;34m)\u001b[0m\u001b[0;34m\u001b[0m\u001b[0;34m\u001b[0m\u001b[0m\n\u001b[0m\u001b[1;32m      3\u001b[0m \u001b[0;31m# Note that we are scaling *up* rather scaling *down* in this case\u001b[0m\u001b[0;34m\u001b[0m\u001b[0;34m\u001b[0m\u001b[0;34m\u001b[0m\u001b[0m\n\u001b[1;32m      4\u001b[0m \u001b[0mlayer_output\u001b[0m \u001b[0;34m/=\u001b[0m \u001b[0;36m0.5\u001b[0m\u001b[0;34m\u001b[0m\u001b[0;34m\u001b[0m\u001b[0m\n",
      "\u001b[0;31mNameError\u001b[0m: name 'layer_output' is not defined"
     ]
    }
   ],
   "source": [
    "# At training time:\n",
    "layer_output *= np.randint(0, high=2, size=layer_output.shape)\n",
    "# Note that we are scaling *up* rather scaling *down* in this case\n",
    "layer_output /= 0.5"
   ]
  },
  {
   "cell_type": "markdown",
   "metadata": {},
   "source": [
    "\n",
    "This technique may seem strange and arbitrary. Why would this help reduce overfitting? Geoff Hinton has said that he was inspired, among \n",
    "other things, by a fraud prevention mechanism used by banks -- in his own words: _\"I went to my bank. The tellers kept changing and I asked \n",
    "one of them why. He said he didn’t know but they got moved around a lot. I figured it must be because it would require cooperation \n",
    "between employees to successfully defraud the bank. This made me realize that randomly removing a different subset of neurons on each \n",
    "example would prevent conspiracies and thus reduce overfitting\"_.\n",
    "\n",
    "The core idea is that introducing noise in the output values of a layer can break up happenstance patterns that are not significant (what \n",
    "Hinton refers to as \"conspiracies\"), which the network would start memorizing if no noise was present. \n",
    "\n",
    "In Keras you can introduce dropout in a network via the `Dropout` layer, which gets applied to the output of layer right before it, e.g.:"
   ]
  },
  {
   "cell_type": "code",
   "execution_count": 47,
   "metadata": {},
   "outputs": [
    {
     "ename": "NameError",
     "evalue": "name 'model' is not defined",
     "output_type": "error",
     "traceback": [
      "\u001b[0;31m---------------------------------------------------------------------------\u001b[0m",
      "\u001b[0;31mNameError\u001b[0m                                 Traceback (most recent call last)",
      "\u001b[0;32m<ipython-input-47-65ed89de200e>\u001b[0m in \u001b[0;36m<module>\u001b[0;34m\u001b[0m\n\u001b[0;32m----> 1\u001b[0;31m \u001b[0mmodel\u001b[0m\u001b[0;34m.\u001b[0m\u001b[0madd\u001b[0m\u001b[0;34m(\u001b[0m\u001b[0mlayers\u001b[0m\u001b[0;34m.\u001b[0m\u001b[0mDropout\u001b[0m\u001b[0;34m(\u001b[0m\u001b[0;36m0.5\u001b[0m\u001b[0;34m)\u001b[0m\u001b[0;34m)\u001b[0m\u001b[0;34m\u001b[0m\u001b[0;34m\u001b[0m\u001b[0m\n\u001b[0m",
      "\u001b[0;31mNameError\u001b[0m: name 'model' is not defined"
     ]
    }
   ],
   "source": [
    "model.add(layers.Dropout(0.5))"
   ]
  },
  {
   "cell_type": "markdown",
   "metadata": {},
   "source": [
    "Let's add two `Dropout` layers in our IMDB network to see how well they do at reducing overfitting:"
   ]
  },
  {
   "cell_type": "code",
   "execution_count": 48,
   "metadata": {},
   "outputs": [],
   "source": [
    "dpt_model = models.Sequential()\n",
    "dpt_model.add(layers.Dense(16, activation='relu', input_shape=(10000,)))\n",
    "dpt_model.add(layers.Dropout(0.5))\n",
    "dpt_model.add(layers.Dense(16, activation='relu'))\n",
    "dpt_model.add(layers.Dropout(0.5))\n",
    "dpt_model.add(layers.Dense(1, activation='sigmoid'))\n",
    "\n",
    "dpt_model.compile(optimizer='rmsprop',\n",
    "                  loss='binary_crossentropy',\n",
    "                  metrics=['acc'])"
   ]
  },
  {
   "cell_type": "code",
   "execution_count": 49,
   "metadata": {},
   "outputs": [
    {
     "name": "stdout",
     "output_type": "stream",
     "text": [
      "Train on 25000 samples, validate on 25000 samples\n",
      "Epoch 1/20\n",
      "25000/25000 [==============================] - 4s 161us/step - loss: 0.6287 - acc: 0.6481 - val_loss: 0.5352 - val_acc: 0.8370\n",
      "Epoch 2/20\n",
      "25000/25000 [==============================] - 3s 117us/step - loss: 0.5049 - acc: 0.7944 - val_loss: 0.4178 - val_acc: 0.8738\n",
      "Epoch 3/20\n",
      "25000/25000 [==============================] - 2s 98us/step - loss: 0.4010 - acc: 0.8532 - val_loss: 0.3306 - val_acc: 0.8858\n",
      "Epoch 4/20\n",
      "25000/25000 [==============================] - 2s 100us/step - loss: 0.3361 - acc: 0.8850 - val_loss: 0.2915 - val_acc: 0.8898\n",
      "Epoch 5/20\n",
      "25000/25000 [==============================] - 2s 100us/step - loss: 0.2944 - acc: 0.9032 - val_loss: 0.2849 - val_acc: 0.8902\n",
      "Epoch 6/20\n",
      "25000/25000 [==============================] - 2s 95us/step - loss: 0.2544 - acc: 0.9193 - val_loss: 0.2832 - val_acc: 0.8894\n",
      "Epoch 7/20\n",
      "25000/25000 [==============================] - 2s 99us/step - loss: 0.2361 - acc: 0.9257 - val_loss: 0.2901 - val_acc: 0.8872\n",
      "Epoch 8/20\n",
      "25000/25000 [==============================] - 3s 105us/step - loss: 0.2114 - acc: 0.9316 - val_loss: 0.3034 - val_acc: 0.8860\n",
      "Epoch 9/20\n",
      "25000/25000 [==============================] - 3s 106us/step - loss: 0.1935 - acc: 0.9382 - val_loss: 0.3192 - val_acc: 0.8851\n",
      "Epoch 10/20\n",
      "25000/25000 [==============================] - 2s 93us/step - loss: 0.1843 - acc: 0.9414 - val_loss: 0.3385 - val_acc: 0.8830\n",
      "Epoch 11/20\n",
      "25000/25000 [==============================] - 2s 99us/step - loss: 0.1684 - acc: 0.9453 - val_loss: 0.3767 - val_acc: 0.8818\n",
      "Epoch 12/20\n",
      "25000/25000 [==============================] - 3s 105us/step - loss: 0.1551 - acc: 0.9502 - val_loss: 0.4134 - val_acc: 0.8774\n",
      "Epoch 13/20\n",
      "25000/25000 [==============================] - 2s 97us/step - loss: 0.1525 - acc: 0.9516 - val_loss: 0.3949 - val_acc: 0.8777\n",
      "Epoch 14/20\n",
      "25000/25000 [==============================] - 2s 96us/step - loss: 0.1502 - acc: 0.9532 - val_loss: 0.4393 - val_acc: 0.8793\n",
      "Epoch 15/20\n",
      "25000/25000 [==============================] - 2s 95us/step - loss: 0.1392 - acc: 0.9572 - val_loss: 0.4598 - val_acc: 0.8772\n",
      "Epoch 16/20\n",
      "25000/25000 [==============================] - 3s 106us/step - loss: 0.1368 - acc: 0.9577 - val_loss: 0.4623 - val_acc: 0.8746\n",
      "Epoch 17/20\n",
      "25000/25000 [==============================] - 3s 105us/step - loss: 0.1295 - acc: 0.9600 - val_loss: 0.4922 - val_acc: 0.8732\n",
      "Epoch 18/20\n",
      "25000/25000 [==============================] - 3s 104us/step - loss: 0.1233 - acc: 0.9618 - val_loss: 0.5155 - val_acc: 0.8745\n",
      "Epoch 19/20\n",
      "25000/25000 [==============================] - 2s 95us/step - loss: 0.1263 - acc: 0.9612 - val_loss: 0.5661 - val_acc: 0.8735\n",
      "Epoch 20/20\n",
      "25000/25000 [==============================] - 3s 109us/step - loss: 0.1218 - acc: 0.9625 - val_loss: 0.5504 - val_acc: 0.8734\n"
     ]
    }
   ],
   "source": [
    "dpt_model_hist = dpt_model.fit(x_train, y_train,\n",
    "                               epochs=20,\n",
    "                               batch_size=512,\n",
    "                               validation_data=(x_test, y_test))"
   ]
  },
  {
   "cell_type": "markdown",
   "metadata": {},
   "source": [
    "Let's plot the results:"
   ]
  },
  {
   "cell_type": "code",
   "execution_count": 50,
   "metadata": {},
   "outputs": [
    {
     "data": {
      "image/png": "[encoded data removed]",
      "text/plain": [
       "<Figure size 432x288 with 1 Axes>"
      ]
     },
     "metadata": {
      "needs_background": "light"
     },
     "output_type": "display_data"
    }
   ],
   "source": [
    "dpt_model_val_loss = dpt_model_hist.history['val_loss']\n",
    "\n",
    "plt.plot(epochs, original_val_loss, 'b+', label='Original model')\n",
    "plt.plot(epochs, dpt_model_val_loss, 'bo', label='Dropout-regularized model')\n",
    "plt.xlabel('Epochs')\n",
    "plt.ylabel('Validation loss')\n",
    "plt.legend()\n",
    "\n",
    "plt.show()"
   ]
  },
  {
   "cell_type": "markdown",
   "metadata": {},
   "source": [
    "\n",
    "Again, a clear improvement over the reference network.\n",
    "\n",
    "To recap: here the most common ways to prevent overfitting in neural networks:\n",
    "\n",
    "* Getting more training data.\n",
    "* Reducing the capacity of the network.\n",
    "* Adding weight regularization.\n",
    "* Adding dropout."
   ]
  }
 ],
 "metadata": {
  "kernelspec": {
   "display_name": "Python 3",
   "language": "python",
   "name": "python3"
  },
  "language_info": {
   "codemirror_mode": {
    "name": "ipython",
    "version": 3
   },
   "file_extension": ".py",
   "mimetype": "text/x-python",
   "name": "python",
   "nbconvert_exporter": "python",
   "pygments_lexer": "ipython3",
   "version": "3.7.4"
  }
 },
 "nbformat": 4,
 "nbformat_minor": 2
}
